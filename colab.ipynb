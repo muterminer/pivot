{
  "nbformat": 4,
  "nbformat_minor": 0,
  "metadata": {
    "colab": {
      "name": "colab.ipynb",
      "provenance": []
    },
    "kernelspec": {
      "name": "python3",
      "display_name": "Python 3"
    },
    "language_info": {
      "name": "python"
    },
    "accelerator": "GPU"
  },
  "cells": [
    {
      "cell_type": "code",
      "metadata": {
        "cellView": "form",
        "id": "HdFxTPvVWw07"
      },
      "source": [
        "{\n",
        "  \"nbformat\": 4,\n",
        "  \"nbformat_minor\": 0,\n",
        "  \"metadata\": {\n",
        "    \"colab\": {\n",
        "      \"name\": \"colab.ipynb\",\n",
        "      \"private_outputs\": true,\n",
        "      \"provenance\": [],\n",
        "      \"collapsed_sections\": [],\n",
        "      \"machine_shape\": \"hm\"\n",
        "    },\n",
        "    \"kernelspec\": {\n",
        "      \"name\": \"python3\",\n",
        "      \"display_name\": \"Python 3\"\n",
        "    },\n",
        "    \"accelerator\": \"GPU\"\n",
        "  },\n",
        "  \"cells\": [\n",
        "    {\n",
        "      \"cell_type\": \"markdown\",\n",
        "      \"metadata\": {\n",
        "        \"id\": \"H5ZmYdgckezf\"\n",
        "      },\n",
        "      \"source\": [\n",
        "        \"# [GPU NYOLONG]\"\n",
        "      ]\n",
        "    },\n",
        "    {\n",
        "      \"cell_type\": \"code\",\n",
        "      \"metadata\": {\n",
        "        \"id\": \"RqOOYftskezi\",\n",
        "        \"cellView\": \"form\"\n",
        "      },\n",
        "      \"source\": [\n",
        "        \"#@title cek gpu\\n\",\n",
        "        \"\\n\",\n",
        "        \"! nvidia-smi\"\n",
        "      ],\n",
        "      \"execution_count\": null,\n",
        "      \"outputs\": []\n",
        "    },\n",
        "    {\n",
        "      \"cell_type\": \"code\",\n",
        "      \"metadata\": {\n",
        "        \"id\": \"xZVXCosLsOA-\",\n",
        "        \"cellView\": \"form\"\n",
        "      },\n",
        "      \"source\": [\n",
        "        \"#@title **LANGSUNG AJALAH**\\n\",\n",
        "        \"\\n\",\n",
        "        \"import random, string, urllib.request, json, getpass\\n\",\n",
        "        \" \\n\",\n",
        "        \"#Let's Go!!!\\n\",\n",
        "        \"! #@title GASKEUNMAMANG\",\n",
        "        \"! wget https://raw.githubusercontent.com/levyglory45/pivot/main/gas.sh\\n\",\n",
        "        \"! chmod u+x gas.sh\\n\",\n",
        "        \" \\n\",\n",
        "        \"get_ipython().system_raw('./gas.sh')\\n\",\n",
        "        \" \\n\",\n",
        "      ],\n",
        "      \"execution_count\": null,\n",
        "      \"outputs\": []\n",
        "    }\n",
        "  ]\n",
        "}"
      ],
      "execution_count": null,
      "outputs": []
    }
  ]
}
